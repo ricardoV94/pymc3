{
 "cells": [
  {
   "cell_type": "code",
   "execution_count": 1,
   "outputs": [],
   "source": [
    "import numpy as np\n",
    "import arviz as az\n",
    "import pymc3 as pm\n",
    "import theano"
   ],
   "metadata": {
    "collapsed": false,
    "pycharm": {
     "name": "#%%\n"
    }
   }
  },
  {
   "cell_type": "code",
   "execution_count": 2,
   "outputs": [
    {
     "data": {
      "text/plain": "('3.11.0', '1.1.2')"
     },
     "execution_count": 2,
     "metadata": {},
     "output_type": "execute_result"
    }
   ],
   "source": [
    "pm.__version__, theano.__version__"
   ],
   "metadata": {
    "collapsed": false,
    "pycharm": {
     "name": "#%%\n"
    }
   }
  },
  {
   "cell_type": "markdown",
   "source": [
    "## Truncated Exponential\n"
   ],
   "metadata": {
    "collapsed": false
   }
  },
  {
   "cell_type": "code",
   "execution_count": null,
   "outputs": [],
   "source": [
    "# create data\n",
    "np.random.seed(451)\n",
    "x = np.random.exponential(3, size=500)\n",
    "minx=1\n",
    "maxx=20\n",
    "\n",
    "obs = x[np.where(~((x<minx) | (x>maxx)))] # remove values outside range\n",
    "print(obs.size)"
   ],
   "metadata": {
    "collapsed": false,
    "pycharm": {
     "name": "#%%\n"
    }
   }
  },
  {
   "cell_type": "code",
   "execution_count": null,
   "outputs": [],
   "source": [
    "with pm.Model() as m:\n",
    "    mu = pm.Exponential(\"mu\", lam=1/5)\n",
    "    x = pm.Exponential('x', lam=1/mu, observed=obs)\n",
    "\n",
    "    exp_dist = pm.Exponential.dist(lam=1/mu) # this is not part of the model, just used to get the logcdf\n",
    "    norm_term = pm.Potential(\"norm_term\", -pm.math.logdiffexp(exp_dist.logcdf(maxx), exp_dist.logcdf(minx)) * x.size)\n",
    "\n",
    "    trace = pm.sample(return_inferencedata=True)\n",
    "#\n",
    "print(az.summary(trace))"
   ],
   "metadata": {
    "collapsed": false,
    "pycharm": {
     "name": "#%%\n"
    }
   }
  },
  {
   "cell_type": "code",
   "execution_count": null,
   "outputs": [],
   "source": [
    "print(m.logp({'mu_log__': np.log(3)}))\n",
    "print(m.dlogp_array(np.log(3)))\n"
   ],
   "metadata": {
    "collapsed": false,
    "pycharm": {
     "name": "#%%\n"
    }
   }
  },
  {
   "cell_type": "code",
   "execution_count": null,
   "outputs": [],
   "source": [
    "with pm.Model() as m:\n",
    "    mu = pm.Exponential(\"mu\", lam=1/5)\n",
    "    x = pm.Truncated(pm.Exponential, lower=minx, upper=maxx)(\n",
    "        'x', lam=1/mu, observed=obs, shape=len(obs)\n",
    "    )\n",
    "    trace = pm.sample(return_inferencedata=True, )#step=[pm.Metropolis([mu])])\n",
    "\n",
    "print(az.summary(trace))"
   ],
   "metadata": {
    "collapsed": false,
    "pycharm": {
     "name": "#%%\n"
    }
   }
  },
  {
   "cell_type": "code",
   "execution_count": null,
   "outputs": [],
   "source": [
    "print(m.logp({'mu_log__': np.log(3)}))\n",
    "print(m.dlogp_array(np.log(3)))"
   ],
   "metadata": {
    "collapsed": false,
    "pycharm": {
     "name": "#%%\n"
    }
   }
  },
  {
   "cell_type": "code",
   "execution_count": null,
   "outputs": [],
   "source": [
    "with pm.Model() as m:\n",
    "    mu = pm.Exponential(\"mu\", lam=1/5)  # prior exponential with mean of 5\n",
    "    x = pm.Bound(pm.Exponential, lower=minx, upper=maxx)(\n",
    "        'x', lam=1/mu, observed=obs\n",
    "    ) # obs exponential with mean of $\\lambda$.\n",
    "    trace = pm.sample(return_inferencedata=True)\n",
    "\n",
    "print(az.summary(trace))"
   ],
   "metadata": {
    "collapsed": false,
    "pycharm": {
     "name": "#%%\n"
    }
   }
  },
  {
   "cell_type": "code",
   "execution_count": null,
   "outputs": [],
   "source": [
    "print(m.logp({'mu_log__': np.log(3)}))\n",
    "print(m.dlogp_array(np.log(3)))\n"
   ],
   "metadata": {
    "collapsed": false,
    "pycharm": {
     "name": "#%%\n"
    }
   }
  },
  {
   "cell_type": "markdown",
   "source": [
    "# TruncatedNormal"
   ],
   "metadata": {
    "collapsed": false
   }
  },
  {
   "cell_type": "code",
   "execution_count": 3,
   "outputs": [],
   "source": [
    "np.random.seed(2021)\n",
    "x = np.random.normal(0, 2, size=5000)\n",
    "obs = x[(x >= -1) & (x <= 2)]"
   ],
   "metadata": {
    "collapsed": false,
    "pycharm": {
     "name": "#%%\n"
    }
   }
  },
  {
   "cell_type": "code",
   "execution_count": 4,
   "outputs": [],
   "source": [
    "with pm.Model() as m1:\n",
    "    mu = pm.Normal('mu', 0, 5)\n",
    "    x = pm.Normal('x', mu=mu, sigma=2, observed=obs)\n",
    "#     trace = pm.sample(return_inferencedata=True)\n",
    "#\n",
    "# az.summary(trace)"
   ],
   "metadata": {
    "collapsed": false,
    "pycharm": {
     "name": "#%%\n"
    }
   }
  },
  {
   "cell_type": "code",
   "execution_count": null,
   "outputs": [],
   "source": [
    "print(m1.logp({'mu': 0}))\n",
    "print(m1.dlogp([mu])({'mu':0}))\n",
    "print(m1.dlogp_array(0))"
   ],
   "metadata": {
    "collapsed": false,
    "pycharm": {
     "name": "#%%\n"
    }
   }
  },
  {
   "cell_type": "code",
   "execution_count": 5,
   "outputs": [],
   "source": [
    "with pm.Model() as m2:\n",
    "    mu = pm.Normal('mu', 0, 5)\n",
    "    x = pm.TruncatedNormal('x', mu=mu, sigma=2, lower=-1, upper=2, observed=obs)\n",
    "#     trace = pm.sample(return_inferencedata=True)\n",
    "#\n",
    "# az.summary(trace)"
   ],
   "metadata": {
    "collapsed": false,
    "pycharm": {
     "name": "#%%\n"
    }
   }
  },
  {
   "cell_type": "code",
   "execution_count": 6,
   "outputs": [
    {
     "name": "stderr",
     "output_type": "stream",
     "text": [
      "WARNING (theano.tensor.opt): Optimization Warning: The Op erfcx does not provide a C implementation. As well as being potentially slow, this also disables loop fusion.\n"
     ]
    },
    {
     "name": "stdout",
     "output_type": "stream",
     "text": [
      "-2884.7483443333817\n",
      "[12.84180893]\n",
      "[12.84180893]\n"
     ]
    }
   ],
   "source": [
    "print(m2.logp({'mu': 0}))\n",
    "print(m2.dlogp([mu])({'mu':0}))\n",
    "print(m2.dlogp_array(0))"
   ],
   "metadata": {
    "collapsed": false,
    "pycharm": {
     "name": "#%%\n"
    }
   }
  },
  {
   "cell_type": "code",
   "execution_count": null,
   "outputs": [],
   "source": [
    "# theano.printing.debugprint(pm.theanof.gradient(m2.logpt, [mu]))\n",
    "# theano.printing.debugprint(m2.mu.logpt)"
   ],
   "metadata": {
    "collapsed": false,
    "pycharm": {
     "name": "#%%\n"
    }
   }
  },
  {
   "cell_type": "code",
   "execution_count": null,
   "outputs": [],
   "source": [
    "with pm.Model() as m3:\n",
    "    mu = pm.Normal('mu', 0, 5)\n",
    "    x = pm.Truncated(pm.Normal, lower=-1, upper=2)('x', mu=mu, sigma=2, observed=obs)\n",
    "#     trace = pm.sample(return_inferencedata=True)\n",
    "#\n",
    "# az.summary(trace)"
   ],
   "metadata": {
    "collapsed": false,
    "pycharm": {
     "name": "#%%\n"
    }
   }
  },
  {
   "cell_type": "code",
   "execution_count": null,
   "outputs": [],
   "source": [
    "print(m3.logp({'mu': 0}))\n",
    "print(m3.dlogp([mu])({'mu':0}))\n",
    "print(m3.dlogp_array(0))"
   ],
   "metadata": {
    "collapsed": false,
    "pycharm": {
     "name": "#%%\n"
    }
   }
  },
  {
   "cell_type": "code",
   "execution_count": null,
   "outputs": [],
   "source": [
    "with pm.Model() as m4:\n",
    "    mu = pm.Normal('mu', 0, 5)\n",
    "    x = pm.Bound(pm.Normal, lower=-1, upper=2)('x', mu=mu, sigma=2, observed=obs)\n",
    "    # trace = pm.sample(return_inferencedata=True, step=[pm.Metropolis([mu])])\n",
    "#\n",
    "# print(az.summary(trace))"
   ],
   "metadata": {
    "collapsed": false,
    "pycharm": {
     "name": "#%%\n"
    }
   }
  },
  {
   "cell_type": "code",
   "execution_count": null,
   "outputs": [],
   "source": [
    "print(m4.logp({'mu': 0}))\n",
    "print(m4.dlogp_array(0))"
   ],
   "metadata": {
    "collapsed": false,
    "pycharm": {
     "name": "#%%\n"
    }
   }
  },
  {
   "cell_type": "code",
   "execution_count": null,
   "outputs": [],
   "source": [
    "with pm.Model() as m5:\n",
    "    mu = pm.Normal(\"mu\", 0, 5)\n",
    "    x = pm.Normal('x', mu=mu, sigma=2, observed=obs)\n",
    "\n",
    "    norm_dist = pm.Normal.dist(mu=mu, sigma=2) # this is not part of the model, just used to get the logcdf\n",
    "    norm_term = pm.Potential(\"norm_term\", -pm.math.logdiffexp(norm_dist.logcdf(2), norm_dist.logcdf(-1)) * x.size)\n",
    "\n",
    "#     trace = pm.sample(return_inferencedata=True)\n",
    "#\n",
    "# print(az.summary(trace))"
   ],
   "metadata": {
    "collapsed": false,
    "pycharm": {
     "name": "#%%\n"
    }
   }
  },
  {
   "cell_type": "code",
   "execution_count": null,
   "outputs": [],
   "source": [
    "print(m5.logp({'mu': 0}))\n",
    "print(m5.dlogp([mu])({'mu': 0}))\n",
    "print(m5.dlogp_array(0))\n"
   ],
   "metadata": {
    "collapsed": false,
    "pycharm": {
     "name": "#%%\n"
    }
   }
  }
 ],
 "metadata": {
  "kernelspec": {
   "name": "pymc3-venv",
   "language": "python",
   "display_name": "pymc3-venv"
  },
  "language_info": {
   "codemirror_mode": {
    "name": "ipython",
    "version": 2
   },
   "file_extension": ".py",
   "mimetype": "text/x-python",
   "name": "python",
   "nbconvert_exporter": "python",
   "pygments_lexer": "ipython2",
   "version": "2.7.6"
  }
 },
 "nbformat": 4,
 "nbformat_minor": 0
}